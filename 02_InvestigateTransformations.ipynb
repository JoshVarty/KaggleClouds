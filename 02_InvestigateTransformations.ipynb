{
 "cells": [
  {
   "cell_type": "markdown",
   "metadata": {},
   "source": [
    "## Investigate Transforms"
   ]
  },
  {
   "cell_type": "markdown",
   "metadata": {},
   "source": [
    "Right now we're using the default `get_transforms()` from fastAI. We should look at the individual transforms and see whether or not we think they would apply to our dataset."
   ]
  },
  {
   "cell_type": "markdown",
   "metadata": {},
   "source": [
    "### Notes on Images"
   ]
  },
  {
   "cell_type": "markdown",
   "metadata": {},
   "source": [
    "Before we start looking at possible transforms, let's just take a look at the images and see whether or not any are interesting or if there are any interesting characteristics."
   ]
  },
  {
   "cell_type": "markdown",
   "metadata": {},
   "source": [
    "Notes:\n",
    "- Lots of streaks of lens glare\n",
    "- Lots of black streaks (always background, similar patterns)\n",
    "- Masks are usually rectangles\n",
    "- All appear to be over the ocean\n",
    "- Some appear to have skew to them, but the labels will always be unskewed"
   ]
  },
  {
   "cell_type": "markdown",
   "metadata": {},
   "source": [
    "**Interesting training images:**\n",
    " - 5e70931.jpg Has smaller black streaks in it\n",
    " - 7ca1d0b.jpg Has a small black streak in it\n",
    " - 1e40a05.jpg is comprised of 3 images\n",
    " - 8bd81ce.jpg is comprised of 2 images and one is washed out\n",
    " - 41f92e5.jpg is comprised of 2 images and one is washed out\n",
    " - 449b792.jpg is comprised of 3 images and one is washed out (may have bad labels)\n",
    " - 563fc48.jpg is comprised of 3 images with a bad label\n",
    " - 1588d4c.jpg is comprised of 3 images \n",
    " - 046586a.jpg is comprised of multiple images\n",
    " - b092cc1.jpg is partially corrupted\n",
    " - c26c635.jpg is partially corrupted\n",
    " - c0306e5.jpg is partially corrupted with a bad label\n",
    " - e04fea3.jpg is partially corrupted with a bad label\n",
    " - e5f2f24.jpg is partially corrupted \n",
    " - ee0ba55.jpg seems weirdly labelled\n",
    " - fa645da is partially corrupted with a bad label\n",
    " - f1f99ee.jpg may be the top of 0f1786f.jpg ?\n",
    " \n",
    "\n",
    "**Interesting test images:**\n"
   ]
  },
  {
   "cell_type": "code",
   "execution_count": null,
   "metadata": {},
   "outputs": [],
   "source": []
  }
 ],
 "metadata": {
  "kernelspec": {
   "display_name": "Python (DL)",
   "language": "python",
   "name": "dl"
  },
  "language_info": {
   "codemirror_mode": {
    "name": "ipython",
    "version": 3
   },
   "file_extension": ".py",
   "mimetype": "text/x-python",
   "name": "python",
   "nbconvert_exporter": "python",
   "pygments_lexer": "ipython3",
   "version": "3.6.9"
  }
 },
 "nbformat": 4,
 "nbformat_minor": 2
}
